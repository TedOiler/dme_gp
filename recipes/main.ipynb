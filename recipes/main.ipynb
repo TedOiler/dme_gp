{
 "cells": [
  {
   "cell_type": "code",
   "execution_count": 1,
   "id": "decreased-testimony",
   "metadata": {},
   "outputs": [],
   "source": [
    "import os\n",
    "import numpy as np \n",
    "import pandas as pd\n",
    "import matplotlib.pyplot as plt\n",
    "import seaborn as sns\n",
    "from sklearn.preprocessing import StandardScaler\n",
    "from scipy.io import loadmat\n",
    "from sklearn.model_selection import train_test_split\n",
    "from sklearn.pipeline import Pipeline\n",
    "from sklearn.dummy import DummyClassifier\n",
    "from sklearn.linear_model import LogisticRegression\n",
    "from sklearn.neural_network import MLPClassifier\n",
    "from sklearn.neighbors import KNeighborsClassifier\n",
    "from sklearn.svm import SVC\n",
    "from sklearn.ensemble import RandomForestClassifier\n",
    "from sklearn.discriminant_analysis import LinearDiscriminantAnalysis, QuadraticDiscriminantAnalysis\n",
    "from sklearn.metrics import log_loss\n",
    "from sklearn.decomposition import PCA\n",
    "\n",
    "random_state = 10 # Ensure reproducible results\n",
    "%matplotlib inline"
   ]
  },
  {
   "cell_type": "code",
   "execution_count": 5,
   "id": "current-amount",
   "metadata": {},
   "outputs": [],
   "source": [
    "#------------DATA and TRAIN VALIDATION TEST SPLIT-----------------\n",
    "ing_mat = loadmat('MATLAB/ingredients.mat')['ingredients']\n",
    "# cityDist_mat = loadmat('MATLAB/citiesDistMat.mat')['citiesDistMat']\n",
    "labelName_mat = loadmat('MATLAB/labelNames.mat')['labelNames']\n",
    "labels_mat = loadmat('MATLAB/labels.mat')['labels']\n",
    "recipe_mat = loadmat('MATLAB/recipes.mat')['recipes']\n",
    "ing_headline = []\n",
    "for i in ing_mat[0]:\n",
    "    ing_headline.append(i[0])\n",
    "dataset_X = pd.DataFrame(recipe_mat,columns=ing_headline)\n",
    "dataset_y = pd.DataFrame(labels_mat,columns=['label'])\n",
    "X_train_full,X_test,y_train_full,y_test = train_test_split(dataset_X,dataset_y,test_size=0.2)\n",
    "X_train,X_val,y_train,y_val = train_test_split(X_train_full,y_train_full,test_size=0.25)\n",
    "X_train_len = len(X_train)"
   ]
  },
  {
   "cell_type": "code",
   "execution_count": 6,
   "id": "departmental-conclusion",
   "metadata": {},
   "outputs": [],
   "source": [
    "#------------EXPLORATORY DATA ANALYSIS-----------------\n",
    "\n",
    "## Diagrams\n",
    "\n",
    "\n",
    "## Tables"
   ]
  },
  {
   "cell_type": "code",
   "execution_count": 7,
   "id": "imported-representative",
   "metadata": {},
   "outputs": [],
   "source": [
    "#------------DIMENSIONALITY REDUCTION-----------------\n",
    "\n",
    "## PCA\n",
    "\n",
    "\n",
    "## tSNE\n",
    "\n",
    "\n",
    "## ISOMAP\n",
    "\n",
    "\n",
    "## UMAP\n",
    "\n"
   ]
  },
  {
   "cell_type": "code",
   "execution_count": 8,
   "id": "tender-impossible",
   "metadata": {},
   "outputs": [],
   "source": [
    "#------------MODELS-----------------------------------\n",
    "\n",
    "## Logistic Regression\n",
    "\n",
    "\n",
    "## Naive Bayes\n",
    "\n",
    "\n",
    "## Logistic Regression DR\n",
    "\n",
    "\n",
    "## Naive Bayes DR\n",
    "\n",
    "\n",
    "## Other 1\n",
    "\n",
    "\n",
    "## Other 2\n",
    "\n",
    "\n",
    "## Other 3"
   ]
  },
  {
   "cell_type": "code",
   "execution_count": 10,
   "id": "dominant-missile",
   "metadata": {},
   "outputs": [],
   "source": [
    "#------------VALIDATION-------------------------------\n",
    "\n",
    "## BEST MODEL Hyperparameter tuning\n",
    "\n",
    "## Final Model\n",
    "\n"
   ]
  },
  {
   "cell_type": "code",
   "execution_count": null,
   "id": "broke-jumping",
   "metadata": {},
   "outputs": [],
   "source": [
    "#------------TEST SET PREDICTIONS---------------------\n",
    "\n",
    "## Accuracy scores\n",
    "\n",
    "## MISC\n",
    "\n"
   ]
  }
 ],
 "metadata": {
  "kernelspec": {
   "display_name": "Python 3",
   "language": "python",
   "name": "python3"
  },
  "language_info": {
   "codemirror_mode": {
    "name": "ipython",
    "version": 3
   },
   "file_extension": ".py",
   "mimetype": "text/x-python",
   "name": "python",
   "nbconvert_exporter": "python",
   "pygments_lexer": "ipython3",
   "version": "3.8.5"
  }
 },
 "nbformat": 4,
 "nbformat_minor": 5
}
